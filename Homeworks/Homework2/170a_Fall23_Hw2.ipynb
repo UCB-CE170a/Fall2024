{
  "cells": [
    {
      "cell_type": "markdown",
      "id": "0818d808",
      "metadata": {
        "id": "0818d808"
      },
      "source": [
        "# Fall 2023 CE170A HW2: Sensor Data Analysis\n",
        "v4 - Fall 2023: Prof. Kenichi Soga, Connor Geudeker\n",
        "\n",
        "v3 - Fall 2022: Prof. Kenichi Soga, Jaewon Saw, Shih-Hung Chiu\n",
        "\n",
        "v2 - Fall 2021: Prof. Kenichi Soga, Renjie Wu, Yaobin Yang, James Wang"
      ]
    },
    {
      "cell_type": "code",
      "execution_count": null,
      "id": "314ac710",
      "metadata": {
        "id": "314ac710"
      },
      "outputs": [],
      "source": [
        "import os\n",
        "!wget \"https://github.com/UCB-CE170a/Fall2023/raw/main/Homework/Homework2/ProcessedData.zip\" -O ProcessedData.zip\n",
        "!unzip ProcessedData"
      ]
    },
    {
      "cell_type": "markdown",
      "id": "97b87c66",
      "metadata": {
        "id": "97b87c66"
      },
      "source": [
        "## Background\n",
        "\n",
        "There are two ways to understand phenomena scientifically. One is through mathematical modeling and computer simulation, which is the purpose of our quiz 1 (truss finite element simulation). The other is through experiments, which are performed in this class (model bridge loading experiment). By comparing experimental results with simulation results, one may appreciate the complexity of real-world phenomena and have a deeper understanding of the power and limitations of the simulation method.\n",
        "\n"
      ]
    },
    {
      "cell_type": "markdown",
      "id": "a34dc1f4",
      "metadata": {
        "id": "a34dc1f4"
      },
      "source": [
        "\n",
        "<center>\n",
        "<img src=\"https://github.com/UCB-CE170a/Fall2020/raw/master/homeworks/hw5/figures/overview.png\" alt=\"Node numbering\" width=\"600\" />\n",
        "    \n",
        "    Figure 1. Simulation Vs. Experiment\n",
        "</center>"
      ]
    },
    {
      "cell_type": "markdown",
      "id": "5e1eb2db",
      "metadata": {
        "id": "5e1eb2db"
      },
      "source": [
        "In this assignment, you are going to analyze the sensor data from the model bridge experiment and compare the result with the truss simulation performed in Quiz 1. The data you are going to explore are as follows:\n",
        "* Displacement data from displacement sensors (potentiometric measuring devices),\n",
        "* Tilt data from WSN tilt motes, and\n",
        "* Distributed (spatial) strain data from fiber optics sensors.\n"
      ]
    },
    {
      "cell_type": "markdown",
      "id": "ba3577c5",
      "metadata": {
        "id": "ba3577c5"
      },
      "source": [
        "The typical workflow of data analysis is summarized in Figure 2.\n",
        "<center>\n",
        "<img src=\"https://github.com/UCB-CE170a/Fall2020/raw/master/homeworks/hw5/figures/data_processing.png\" alt=\"Node numbering\" width=\"600\" />\n",
        "    \n",
        "    Figure 2. Typical workflow of data analysis\n",
        "</center>"
      ]
    },
    {
      "cell_type": "markdown",
      "id": "af050ce9",
      "metadata": {
        "id": "af050ce9"
      },
      "source": [
        "We start with the raw data collected from the sensor systems. Then, we preprocess the raw data and store the cleaned data into a data storage system. There are various reasons for data preprocessing. Missing data handling, experiment/equipment setting adjustment, and data format conversion are common reasons (there are more, of course).\n",
        "\n",
        "Most data can be represented as a single spreadsheet. Such data include the displacement data and tilt data that we are going to explore in this assignment. However, in some cases, data can have complex structures; such as the distributed strain data we have in this case. The distributed strain data is collected from fiber optics sensors, which record the strain along with the fiber (spatial component) during the experiment (time component). As you all know, we deployed numerous fiber optics sensors (with different lengths) across different structure members to monitor the load responses of the model bridge. Since we have three model bridges this year, each with different sensor deployment strategies, the sensors' raw data are huge and hard to handle. For the ease of this exercise, the distributed strain data is preprocessed by us, and only some cleaned data from certain bridge members are presented here.\n",
        "\n",
        "\n",
        "Having the cleaned data on our hands, we can perform various postprocessing techniques such as statistical analysis, and most importantly, visualize the data for interpretation.\n",
        "\n",
        "The data are given in a format that follows the numbering given in the following figures.\n",
        "\n",
        "Figure 3 shows the nodal numbering of the model bridge.\n",
        "<center>\n",
        "<img src=\"https://github.com/UCB-CE170a/Fall2023/raw/main/Homework/Homework2/Figures/BridgeNamingConvention.PNG\" alt=\"Node numbering\" width=\"500\" />\n",
        "    \n",
        "    Figure 3. Node numbering for the model bridge\n",
        "</center>\n"
      ]
    },
    {
      "cell_type": "markdown",
      "id": "6d4ceb9d",
      "metadata": {
        "id": "6d4ceb9d"
      },
      "source": [
        "## Videos from bridge tests\n",
        "Refer to the videos <a href=\"https://drive.google.com/drive/folders/19-VyPuif1KAKcLO464WxMrVE5oai2rZO?usp=drive_link\">here</a>\n",
        " to look back on any details you need for the following sections."
      ]
    },
    {
      "cell_type": "markdown",
      "id": "d233956c",
      "metadata": {
        "id": "d233956c"
      },
      "source": [
        "# Data Exploration"
      ]
    },
    {
      "cell_type": "markdown",
      "id": "34e05a7b",
      "metadata": {
        "id": "34e05a7b"
      },
      "source": [
        "We tested three bridges: (1) Standard Bridge, (2) Node-A Weakening, and (3) Element-AB Weakening. As a reminder, Node-A Weakening refers to the removal of two of four screws and Element-AB weakening refers to the removal of some of the cross-sectional area. Throughout this assignment, we will use the indices 1, 2, and 3 to refer to those bridges.\n",
        "\n",
        "Let's first install the required libraries and then read the processed data for the three bridges (in desired units and format) that we'll need for our analysis."
      ]
    },
    {
      "cell_type": "code",
      "execution_count": null,
      "id": "e700c626",
      "metadata": {
        "id": "e700c626"
      },
      "outputs": [],
      "source": [
        "import pandas as pd\n",
        "import numpy as np\n",
        "from matplotlib import pyplot as plt\n",
        "\n",
        "from IPython.display import *\n",
        "import ipywidgets as widgets\n",
        "from ipywidgets import *"
      ]
    },
    {
      "cell_type": "markdown",
      "source": [
        "The following cell block simply sets up an interactive function that will allow us to quickly look at and sift through the data. You can select multiple tests, a sensor of interest, and multiple datapoints of interest. Additionally you can manipulate the value on the x-axis and if you'd like to plot all the data or until \"failure\" (peak load). From there you can plot and assign this data to the variable. While the function call below is to let you see how the function works, please do not edit the other function calls as they are directed to help you complete the assignment."
      ],
      "metadata": {
        "id": "ndOKvRuFM2AE"
      },
      "id": "ndOKvRuFM2AE"
    },
    {
      "cell_type": "code",
      "source": [
        "test_widget = widgets.SelectMultiple(options=['Test1', 'Test2', 'Test3'])\n",
        "sensor_widget = widgets.Dropdown()\n",
        "data_widget = widgets.SelectMultiple()\n",
        "xValue = widgets.Dropdown(options = [\"Time [s]\",\"Load [kN]\"],value = \"Time [s]\")\n",
        "\n",
        "def getFileNames(filePath):\n",
        "  filenames=[]\n",
        "  for filename in os.listdir(filePath):\n",
        "    f = os.path.join(filePath, filename)\n",
        "    filenames.append(f)\n",
        "  return filenames\n",
        "\n",
        "def update_sensors(*args):\n",
        "  sourceFolder = '/content/ProcessedData/'\n",
        "  try:\n",
        "    newFolders = getFileNames(sourceFolder+test_widget.value+'/')\n",
        "  except:\n",
        "    newFolders = getFileNames(sourceFolder+'Test1/')\n",
        "  options = [folder.split('/')[-1] for folder in newFolders]\n",
        "  sensor_widget.options = options\n",
        "test_widget.observe(update_sensors)\n",
        "\n",
        "def update_data(*args):\n",
        "  sourceFolder = '/content/ProcessedData/'\n",
        "  try:\n",
        "    newFolders = getFileNames(sourceFolder+test_widget.value[0]+'/'+sensor_widget.value+'/')\n",
        "  except:\n",
        "    newFolders = getFileNames(sourceFolder+'Test1/FiberOpticData/')\n",
        "  options = [folder.split('/')[-1] for folder in newFolders]\n",
        "  data_widget.options = options\n",
        "sensor_widget.observe(update_data)\n",
        "\n",
        "plot = Checkbox(False, description='Ready to plot data?')\n",
        "peak = Checkbox(False, description=\"Cutoff at peak?\")\n",
        "\n",
        "def uncheckBox(*args):\n",
        "  plot.value = False\n",
        "test_widget.observe(uncheckBox)\n",
        "sensor_widget.observe(uncheckBox)\n",
        "data_widget.observe(uncheckBox)\n",
        "\n",
        "def plottingData(test,sensor,data,xAxisData,plotData,peakEnd):\n",
        "  global dataDFs\n",
        "  filePath = '/content/ProcessedData/'\n",
        "  tests = list(test_widget.value)\n",
        "  datas = list(data_widget.value)\n",
        "  if (not tests) | (not datas):\n",
        "    plotData = False\n",
        "    print(\"Not enough information selected yet.\")\n",
        "  else:\n",
        "    print(\"Enough information has been selected.\")\n",
        "  if plotData:\n",
        "    legendItems = []\n",
        "    dataDFs = []\n",
        "    fig = plt.figure()\n",
        "    ax = fig.gca()\n",
        "    for test in tests:\n",
        "      xAxisFilePath = filePath + test +'/LoadData/ActuatorLoad [kN].csv'\n",
        "      xDF = pd.read_csv(xAxisFilePath,delimiter=',',index_col=False)\n",
        "      if peak.value:\n",
        "        endTime = np.array([124.480671,87.656807,50.032424])[np.array(test_widget.options)==test][0]\n",
        "      else:\n",
        "        endTime = xDF.iloc[-1,1]\n",
        "      xDF = xDF[xDF.iloc[:,1]<=endTime]\n",
        "      if xValue.value == \"Time [s]\":\n",
        "        xData = xDF.iloc[:,1]\n",
        "      else:\n",
        "        xData = xDF.iloc[:,-1]\n",
        "      for data in datas:\n",
        "        testFilePath = filePath + test +'/'+sensor_widget.value+'/'+data\n",
        "        dataDF = pd.read_csv(testFilePath,delimiter=',',index_col=False)\n",
        "        dataDF = dataDF.drop(columns = [dataDF.columns.to_list()[0]])\n",
        "        dataDF = dataDF[dataDF.iloc[:,0]<=endTime]\n",
        "        dataDF.iloc[:,0] = xData\n",
        "        dataDF.rename(columns={ dataDF.columns[0]: xValue.value }, inplace = True)\n",
        "        dataDFs.append(dataDF)\n",
        "        plt.plot(dataDF.iloc[:,0],dataDF.iloc[:,-1])\n",
        "        legendItems.append(test+data)\n",
        "    plt.xlabel(xValue.value)\n",
        "    plt.ylabel(dataDF.columns.to_list()[-1])\n",
        "    ax.grid(color = [0.8, 0.8, 0.8], which = 'major')\n",
        "    ax.xaxis.set_ticks_position('both')\n",
        "    ax.yaxis.set_ticks_position('both')\n",
        "    ax.tick_params(direction=\"in\", which = 'major', length = 6, width = 1)\n",
        "    ax.tick_params(direction=\"in\", which = 'minor', length = 3, width = 0.6)\n",
        "\n",
        "    ax.set_title(sensor_widget.value+' vs. '+xValue.value, fontsize = 14)\n",
        "    plt.legend(legendItems)\n",
        "    plt.show()\n",
        "  else:\n",
        "    print(\"Change the options and then check the box to load the graph.\")\n",
        "\n",
        "testInteract = interact_manual(plottingData,\n",
        "                               test=test_widget,\n",
        "                               sensor=sensor_widget,\n",
        "                               data=data_widget,\n",
        "                               xAxisData = xValue,\n",
        "                               plotData = plot,\n",
        "                               peakEnd=peak)"
      ],
      "metadata": {
        "id": "GVJzSDU7M2G-"
      },
      "id": "GVJzSDU7M2G-",
      "execution_count": null,
      "outputs": []
    },
    {
      "cell_type": "markdown",
      "id": "e63bd517",
      "metadata": {
        "id": "e63bd517"
      },
      "source": [
        "# (1) Loading processes\n",
        "Let's take a look at the loading processes first."
      ]
    },
    {
      "cell_type": "code",
      "execution_count": null,
      "id": "8ab7c55a",
      "metadata": {
        "id": "8ab7c55a"
      },
      "outputs": [],
      "source": [
        "# Load appropriate information\n",
        "test_widget.value = ('Test1', 'Test2', 'Test3')\n",
        "sensor_widget.value = 'LoadData'\n",
        "data_widget.value = ('ActuatorLoad [kN].csv',)\n",
        "xValue.value = \"Time [s]\"\n",
        "plot.value = True\n",
        "peak.value = False\n",
        "\n",
        "# Call new manual interact\n",
        "testInteract = interact_manual(plottingData,\n",
        "                               test=test_widget,\n",
        "                               sensor=sensor_widget,\n",
        "                               data=data_widget,\n",
        "                               xAxisData = xValue,\n",
        "                               plotData = plot,\n",
        "                               peakEnd=peak)"
      ]
    },
    {
      "cell_type": "code",
      "source": [
        "# Load appropriate information\n",
        "test_widget.value = ('Test1', 'Test2', 'Test3')\n",
        "sensor_widget.value = 'LoadData'\n",
        "data_widget.value = ('ActuatorDisplacement [m].csv',)\n",
        "xValue.value = \"Time [s]\"\n",
        "plot.value = True\n",
        "peak.value = False\n",
        "\n",
        "# Call new manual interact\n",
        "testInteract = interact_manual(plottingData,\n",
        "                               test=test_widget,\n",
        "                               sensor=sensor_widget,\n",
        "                               data=data_widget,\n",
        "                               xAxisData = xValue,\n",
        "                               plotData = plot,\n",
        "                               peakEnd=peak)"
      ],
      "metadata": {
        "id": "zn6AoWLzPrkj"
      },
      "id": "zn6AoWLzPrkj",
      "execution_count": null,
      "outputs": []
    },
    {
      "cell_type": "markdown",
      "id": "8af140ce",
      "metadata": {
        "id": "8af140ce"
      },
      "source": [
        "<font color='red'>Question: </font> For each bridge, what were the maximum load and the corresponding time taken to reach the maximum load? Does the above plot match your on-site observations? Is the plot as you would expect? (Hint: think about softening behavior)"
      ]
    },
    {
      "cell_type": "markdown",
      "id": "b116845a",
      "metadata": {
        "id": "b116845a"
      },
      "source": [
        "<font color='red'>Answer: </font>"
      ]
    },
    {
      "cell_type": "markdown",
      "id": "33595fba",
      "metadata": {
        "id": "33595fba"
      },
      "source": [
        "# (2) Expansion of bottom members"
      ]
    },
    {
      "cell_type": "markdown",
      "id": "241153d0",
      "metadata": {
        "id": "241153d0"
      },
      "source": [
        "Now let's take a look at how the bottom members responded to the load. To see the expansion of those members, we will need data from the linear variable differential transformers (LVDTs) that we placed at each end of the bottom members. As seen from Figures 3 and 4, we see that we need LVDTs 3 and 7 for member AE and LVDTs 2 and 6 for member GL.\n",
        "<center>\n",
        "<img src=\"https://github.com/UCB-CE170a/Fall2023/raw/main/Homework/Homework2/Figures/LVDTWPConfiguration.PNG\" alt=\"Node numbering\" width=\"800\" />\n",
        "    \n",
        "    Figure 4.1 LVDT and WirePot configuration for the experiment.\n",
        "</center>\n",
        "\n",
        "<center>\n",
        "<img src=\"https://github.com/UCB-CE170a/Fall2021/raw/master/Homeworks/HW2/images/figure4.png\" alt=\"A bridge.\" width=\"600\" />\n",
        "    \n",
        "    Figure 4.2 Dimensions of the model\n",
        "</center>"
      ]
    },
    {
      "cell_type": "markdown",
      "id": "d1a4ba6a",
      "metadata": {
        "id": "d1a4ba6a"
      },
      "source": [
        "## (2.1) Member AE"
      ]
    },
    {
      "cell_type": "markdown",
      "id": "89b86e20",
      "metadata": {
        "id": "89b86e20"
      },
      "source": [
        "Lets first load and plot the data collected for the LVDT's on either side of member AE: LVDT3 and LVDT7. We'll focus on the values up until the peak load, since the large deformations after this point resulted in difficult to interpret data likely related to the movement of the LVDT itself."
      ]
    },
    {
      "cell_type": "code",
      "execution_count": null,
      "id": "938f87ec",
      "metadata": {
        "id": "938f87ec"
      },
      "outputs": [],
      "source": [
        "# Load appropriate information\n",
        "test_widget.value = ('Test1', 'Test2', 'Test3')\n",
        "sensor_widget.value = 'LVDTData'\n",
        "data_widget.value = ('LVDT3 [m].csv',)\n",
        "xValue.value = \"Load [kN]\"\n",
        "plot.value = True\n",
        "peak.value = True\n",
        "\n",
        "# Call new manual interact\n",
        "testInteract = interact_manual(plottingData,\n",
        "                               test=test_widget,\n",
        "                               sensor=sensor_widget,\n",
        "                               data=data_widget,\n",
        "                               xAxisData = xValue,\n",
        "                               plotData = plot,\n",
        "                               peakEnd=peak)"
      ]
    },
    {
      "cell_type": "code",
      "source": [
        "# Call information\n",
        "LVDT3DFs = dataDFs"
      ],
      "metadata": {
        "id": "mikaBZewemcu"
      },
      "id": "mikaBZewemcu",
      "execution_count": null,
      "outputs": []
    },
    {
      "cell_type": "code",
      "source": [
        "# Load appropriate information\n",
        "test_widget.value = ('Test1', 'Test2', 'Test3')\n",
        "sensor_widget.value = 'LVDTData'\n",
        "data_widget.value = ('LVDT7 [m].csv',)\n",
        "xValue.value = \"Load [kN]\"\n",
        "plot.value = True\n",
        "peak.value = True\n",
        "\n",
        "# Call new manual interact\n",
        "testInteract = interact_manual(plottingData,\n",
        "                               test=test_widget,\n",
        "                               sensor=sensor_widget,\n",
        "                               data=data_widget,\n",
        "                               xAxisData = xValue,\n",
        "                               plotData = plot,\n",
        "                               peakEnd=peak)"
      ],
      "metadata": {
        "id": "q2YvAFqhZGqM"
      },
      "id": "q2YvAFqhZGqM",
      "execution_count": null,
      "outputs": []
    },
    {
      "cell_type": "code",
      "source": [
        "# Call information\n",
        "LVDT7DFs = dataDFs"
      ],
      "metadata": {
        "id": "HQSZk-O-elTR"
      },
      "id": "HQSZk-O-elTR",
      "execution_count": null,
      "outputs": []
    },
    {
      "cell_type": "markdown",
      "id": "ee95619c",
      "metadata": {
        "id": "ee95619c"
      },
      "source": [
        "Now, we use the LVDT3 and LVDT7 data to plot the expansion of member AB:"
      ]
    },
    {
      "cell_type": "code",
      "source": [
        "fig = plt.figure()\n",
        "ax = fig.gca()\n",
        "for i in [0,1,2]:\n",
        "  expansion = LVDT3DFs[i].iloc[:,-1].to_numpy()+LVDT7DFs[i].iloc[:,-1].to_numpy()\n",
        "  plt.plot(LVDT3DFs[i].iloc[:,0],expansion)\n",
        "plt.xlabel(\"Load [kN]\")\n",
        "plt.ylabel(\"Expansion [m]\")\n",
        "ax.grid(color = [0.8, 0.8, 0.8], which = 'major')\n",
        "ax.xaxis.set_ticks_position('both')\n",
        "ax.yaxis.set_ticks_position('both')\n",
        "ax.tick_params(direction=\"in\", which = 'major', length = 6, width = 1)\n",
        "ax.tick_params(direction=\"in\", which = 'minor', length = 3, width = 0.6)\n",
        "ax.set_title('Expansion AE vs. Load', fontsize = 14)\n",
        "plt.legend([\"Test1\",\"Test2\",\"Test3\"])\n",
        "plt.show()"
      ],
      "metadata": {
        "id": "i-Iz59jLey1f"
      },
      "id": "i-Iz59jLey1f",
      "execution_count": null,
      "outputs": []
    },
    {
      "cell_type": "markdown",
      "id": "9ab223e3",
      "metadata": {
        "id": "9ab223e3"
      },
      "source": [
        "<font color='red'>Question: </font> For each of the three bridges, describe the behavior of the LVDTs and the behavior of the bottom member using the plotted figures above. Given these displacements, what strains would you expect in the bottom members? How do the experimental results compare to your Quiz 1 calculations?"
      ]
    },
    {
      "cell_type": "markdown",
      "id": "307b3a6a",
      "metadata": {
        "id": "307b3a6a"
      },
      "source": [
        "<font color='red'>Answer:</font>"
      ]
    },
    {
      "cell_type": "markdown",
      "id": "ea67f105",
      "metadata": {
        "id": "ea67f105"
      },
      "source": [
        "## (2.2) Member GL\n",
        "We repeat the process for member GL with LVDTs 2 and 6:"
      ]
    },
    {
      "cell_type": "code",
      "execution_count": null,
      "id": "a1094b9c",
      "metadata": {
        "id": "a1094b9c"
      },
      "outputs": [],
      "source": [
        "# Load appropriate information\n",
        "test_widget.value = ('Test1', 'Test2', 'Test3')\n",
        "sensor_widget.value = 'LVDTData'\n",
        "data_widget.value = ('LVDT2 [m].csv',)\n",
        "xValue.value = \"Load [kN]\"\n",
        "plot.value = True\n",
        "peak.value = True\n",
        "\n",
        "# Call new manual interact\n",
        "testInteract = interact_manual(plottingData,\n",
        "                               test=test_widget,\n",
        "                               sensor=sensor_widget,\n",
        "                               data=data_widget,\n",
        "                               xAxisData = xValue,\n",
        "                               plotData = plot,\n",
        "                               peakEnd=peak)"
      ]
    },
    {
      "cell_type": "code",
      "source": [
        "# Call information\n",
        "LVDT2DFs = dataDFs"
      ],
      "metadata": {
        "id": "2_Juu6R9iRtA"
      },
      "id": "2_Juu6R9iRtA",
      "execution_count": null,
      "outputs": []
    },
    {
      "cell_type": "code",
      "source": [
        "# Load appropriate information\n",
        "test_widget.value = ('Test1', 'Test2', 'Test3')\n",
        "sensor_widget.value = 'LVDTData'\n",
        "data_widget.value = ('LVDT6 [m].csv',)\n",
        "xValue.value = \"Load [kN]\"\n",
        "plot.value = True\n",
        "peak.value = True\n",
        "\n",
        "# Call new manual interact\n",
        "testInteract = interact_manual(plottingData,\n",
        "                               test=test_widget,\n",
        "                               sensor=sensor_widget,\n",
        "                               data=data_widget,\n",
        "                               xAxisData = xValue,\n",
        "                               plotData = plot,\n",
        "                               peakEnd=peak)"
      ],
      "metadata": {
        "id": "_evppqVWiRyv"
      },
      "id": "_evppqVWiRyv",
      "execution_count": null,
      "outputs": []
    },
    {
      "cell_type": "code",
      "source": [
        "# Call information\n",
        "LVDT6DFs = dataDFs"
      ],
      "metadata": {
        "id": "xQKjNHHJikFJ"
      },
      "id": "xQKjNHHJikFJ",
      "execution_count": null,
      "outputs": []
    },
    {
      "cell_type": "code",
      "source": [
        "fig = plt.figure()\n",
        "ax = fig.gca()\n",
        "for i in [0,1,2]:\n",
        "  expansion = LVDT2DFs[i].iloc[:,-1].to_numpy()+LVDT6DFs[i].iloc[:,-1].to_numpy()\n",
        "  plt.plot(LVDT2DFs[i].iloc[:,0],expansion)\n",
        "plt.xlabel(\"Load [kN]\")\n",
        "plt.ylabel(\"Expansion [m]\")\n",
        "ax.grid(color = [0.8, 0.8, 0.8], which = 'major')\n",
        "ax.xaxis.set_ticks_position('both')\n",
        "ax.yaxis.set_ticks_position('both')\n",
        "ax.tick_params(direction=\"in\", which = 'major', length = 6, width = 1)\n",
        "ax.tick_params(direction=\"in\", which = 'minor', length = 3, width = 0.6)\n",
        "ax.set_title('Expansion GL vs. Load', fontsize = 14)\n",
        "plt.legend([\"Test1\",\"Test2\",\"Test3\"])\n",
        "plt.show()"
      ],
      "metadata": {
        "id": "2qQxwnWXiR2B"
      },
      "id": "2qQxwnWXiR2B",
      "execution_count": null,
      "outputs": []
    },
    {
      "cell_type": "markdown",
      "id": "afda0166",
      "metadata": {
        "id": "afda0166"
      },
      "source": [
        "<font color='red'>Question: </font> How does the behavior of Member GL compare to that of Member AB? What do you expect and what is the actual behavior?"
      ]
    },
    {
      "cell_type": "markdown",
      "id": "33e933b5",
      "metadata": {
        "id": "33e933b5"
      },
      "source": [
        "<font color='red'>Answer: </font>"
      ]
    },
    {
      "cell_type": "markdown",
      "id": "37356ae3",
      "metadata": {
        "id": "37356ae3"
      },
      "source": [
        "# (3) Rotation at the top of the bridge"
      ]
    },
    {
      "cell_type": "markdown",
      "id": "84bb7c10",
      "metadata": {
        "id": "84bb7c10"
      },
      "source": [
        "Let's explore the tiltmeter data. Figure 5 shows the orientation of the WSN tilt meters. Both were located on the top of the bridge, one towards the North end and one towards the South end. The direction of angle is given for both longitudinal direction (L) and transverse direction (T)."
      ]
    },
    {
      "cell_type": "markdown",
      "id": "ac24f6b2",
      "metadata": {
        "id": "ac24f6b2"
      },
      "source": [
        "<center>\n",
        "<img src=\"https://github.com/UCB-CE170a/Fall2021/raw/master/Homeworks/HW2/images/tilt_defination.jpg\" alt=\"Node numbering\" width=\"600\" />\n",
        "    \n",
        "    Figure 5. The locations of WSN tilt motes.\n",
        "</center>"
      ]
    },
    {
      "cell_type": "code",
      "execution_count": null,
      "id": "53b2f83d-6824-4196-aa2d-719dad89c5b5",
      "metadata": {
        "id": "53b2f83d-6824-4196-aa2d-719dad89c5b5"
      },
      "outputs": [],
      "source": [
        "# Load appropriate information\n",
        "test_widget.value = ('Test1',)\n",
        "sensor_widget.value = 'TiltData'\n",
        "data_widget.value = ('NorthLongitudinal.csv','SouthLongitudinal.csv','SouthTransverse.csv','NorthTransverse.csv',)\n",
        "xValue.value = \"Load [kN]\"\n",
        "plot.value = True\n",
        "peak.value = True\n",
        "\n",
        "# Call new manual interact\n",
        "testInteract = interact_manual(plottingData,\n",
        "                               test=test_widget,\n",
        "                               sensor=sensor_widget,\n",
        "                               data=data_widget,\n",
        "                               xAxisData = xValue,\n",
        "                               plotData = plot,\n",
        "                               peakEnd=peak)"
      ]
    },
    {
      "cell_type": "code",
      "source": [
        "# Load appropriate information\n",
        "test_widget.value = ('Test2',)\n",
        "sensor_widget.value = 'TiltData'\n",
        "data_widget.value = ('NorthLongitudinal.csv','SouthLongitudinal.csv','SouthTransverse.csv','NorthTransverse.csv',)\n",
        "xValue.value = \"Load [kN]\"\n",
        "plot.value = True\n",
        "peak.value = True\n",
        "\n",
        "# Call new manual interact\n",
        "testInteract = interact_manual(plottingData,\n",
        "                               test=test_widget,\n",
        "                               sensor=sensor_widget,\n",
        "                               data=data_widget,\n",
        "                               xAxisData = xValue,\n",
        "                               plotData = plot,\n",
        "                               peakEnd=peak)"
      ],
      "metadata": {
        "id": "djYMnThyoLl_"
      },
      "id": "djYMnThyoLl_",
      "execution_count": null,
      "outputs": []
    },
    {
      "cell_type": "code",
      "source": [
        "# Load appropriate information\n",
        "test_widget.value = ('Test3',)\n",
        "sensor_widget.value = 'TiltData'\n",
        "data_widget.value = ('NorthLongitudinal.csv','SouthLongitudinal.csv','SouthTransverse.csv','NorthTransverse.csv',)\n",
        "xValue.value = \"Load [kN]\"\n",
        "plot.value = True\n",
        "peak.value = True\n",
        "\n",
        "# Call new manual interact\n",
        "testInteract = interact_manual(plottingData,\n",
        "                               test=test_widget,\n",
        "                               sensor=sensor_widget,\n",
        "                               data=data_widget,\n",
        "                               xAxisData = xValue,\n",
        "                               plotData = plot,\n",
        "                               peakEnd=peak)"
      ],
      "metadata": {
        "id": "fSEKuroerTu-"
      },
      "id": "fSEKuroerTu-",
      "execution_count": null,
      "outputs": []
    },
    {
      "cell_type": "markdown",
      "id": "4232a547",
      "metadata": {
        "id": "4232a547"
      },
      "source": [
        "<font color='red'>Question: </font> Using the three rotation plots above, compare and discuss how the bridges behaved as they were about to fail. Do the failure patterns match the your observations?"
      ]
    },
    {
      "cell_type": "markdown",
      "id": "055c4f3e",
      "metadata": {
        "id": "055c4f3e"
      },
      "source": [
        "<font color='red'>Answer: </font>"
      ]
    },
    {
      "cell_type": "markdown",
      "id": "c68c85ff",
      "metadata": {
        "id": "c68c85ff"
      },
      "source": [
        "<font color='red'>Question: </font> Think about what role tiltmeters could play in providing early warning of model bridge failure."
      ]
    },
    {
      "cell_type": "markdown",
      "id": "b6d312a8",
      "metadata": {
        "id": "b6d312a8"
      },
      "source": [
        "<font color='red'>Answer: </font>"
      ]
    },
    {
      "cell_type": "markdown",
      "source": [
        "We can also calculate a tilt value of the top plate by looking at the results of the wire potentiometers. The following plots the original data and processes it to derive this \"global\" tilt."
      ],
      "metadata": {
        "id": "6OPeIBbSwCUT"
      },
      "id": "6OPeIBbSwCUT"
    },
    {
      "cell_type": "code",
      "source": [
        "def tiltFromWirePot(WirePotData):\n",
        "  T1WPData = WirePotData\n",
        "  dT = 0.178\n",
        "  dL = 0.145\n",
        "  angleTs = []\n",
        "  angleLs = []\n",
        "  for i in range(0,len(T1WPData[0])):\n",
        "    wp1 = np.array([0,0,T1WPData[0].iloc[i,1]])\n",
        "    wp2 = np.array([0,dT,T1WPData[1].iloc[i,1]])\n",
        "    wp3 = np.array([dL,dT,T1WPData[2].iloc[i,1]])\n",
        "    wp4 = np.array([dL,0,T1WPData[3].iloc[i,1]])\n",
        "    a1,b1,c1 = np.cross(wp3-wp1,wp2-wp1)\n",
        "    a2,b2,c2 = np.cross(wp4-wp1,wp3-wp1)\n",
        "    a3,b3,c3 = np.cross(wp4-wp2,wp3-wp2)\n",
        "    a4,b4,c4 = np.cross(wp4-wp1,wp2-wp1)\n",
        "    normal = np.array([np.mean([a1,a2,a3,a4]),np.mean([b1,b2,b3,b4]),np.mean([c1,c2,c3,c4])])\n",
        "    normalT = normal*np.array([0,1,1])\n",
        "    normalL = normal*np.array([1,0,1])\n",
        "    angleT= (180/np.pi)*np.arccos(np.dot(normalT,np.array([0,0,1]))/np.linalg.norm(normalT))\n",
        "    angleL= (180/np.pi)*np.arccos(np.dot(normalL,np.array([0,0,1]))/np.linalg.norm(normalL))\n",
        "    angleTs.append(-angleT)\n",
        "    angleLs.append(angleL)\n",
        "\n",
        "  angleTs = angleTs - angleTs[0]\n",
        "  angleLs = angleLs - angleLs[0]\n",
        "  fig = plt.figure()\n",
        "  ax = fig.gca()\n",
        "  plt.plot(T1WPData[0].iloc[:,0],angleTs)\n",
        "  plt.plot(T1WPData[0].iloc[:,0],angleLs)\n",
        "  plt.xlabel(T1WPData[0].columns.to_list()[0])\n",
        "  plt.ylabel(\"Angle (degrees)\")\n",
        "  ax.grid(color = [0.8, 0.8, 0.8], which = 'major')\n",
        "  ax.xaxis.set_ticks_position('both')\n",
        "  ax.yaxis.set_ticks_position('both')\n",
        "  ax.tick_params(direction=\"in\", which = 'major', length = 6, width = 1)\n",
        "  ax.tick_params(direction=\"in\", which = 'minor', length = 3, width = 0.6)\n",
        "  ax.set_title('WirePot Angle vs. Load', fontsize = 14)\n",
        "  plt.legend([\"Transverse\",\"Longitudinal\"])\n",
        "  plt.show()"
      ],
      "metadata": {
        "id": "xbyVC4gKfCWv"
      },
      "id": "xbyVC4gKfCWv",
      "execution_count": null,
      "outputs": []
    },
    {
      "cell_type": "code",
      "source": [
        "# Load appropriate information\n",
        "test_widget.value = ('Test1',)\n",
        "sensor_widget.value = 'WirePotData'\n",
        "data_widget.value = ('WirePot1 [m].csv', 'WirePot2 [m].csv', 'WirePot3 [m].csv', 'WirePot4 [m].csv',)\n",
        "xValue.value = \"Load [kN]\"\n",
        "plot.value = True\n",
        "peak.value = True\n",
        "\n",
        "# Call new manual interact\n",
        "testInteract = interact_manual(plottingData,\n",
        "                               test=test_widget,\n",
        "                               sensor=sensor_widget,\n",
        "                               data=data_widget,\n",
        "                               xAxisData = xValue,\n",
        "                               plotData = plot,\n",
        "                               peakEnd=peak)"
      ],
      "metadata": {
        "id": "V4FYF6F-wdT_"
      },
      "id": "V4FYF6F-wdT_",
      "execution_count": null,
      "outputs": []
    },
    {
      "cell_type": "code",
      "source": [
        "tiltFromWirePot(dataDFs)"
      ],
      "metadata": {
        "id": "rUxpSFuDz8rO"
      },
      "id": "rUxpSFuDz8rO",
      "execution_count": null,
      "outputs": []
    },
    {
      "cell_type": "code",
      "source": [
        "# Load appropriate information\n",
        "test_widget.value = ('Test2',)\n",
        "sensor_widget.value = 'WirePotData'\n",
        "data_widget.value = ('WirePot1 [m].csv', 'WirePot2 [m].csv', 'WirePot3 [m].csv', 'WirePot4 [m].csv',)\n",
        "xValue.value = \"Load [kN]\"\n",
        "plot.value = True\n",
        "peak.value = True\n",
        "\n",
        "# Call new manual interact\n",
        "testInteract = interact_manual(plottingData,\n",
        "                               test=test_widget,\n",
        "                               sensor=sensor_widget,\n",
        "                               data=data_widget,\n",
        "                               xAxisData = xValue,\n",
        "                               plotData = plot,\n",
        "                               peakEnd=peak)"
      ],
      "metadata": {
        "id": "ufDy0Gsn59kK"
      },
      "id": "ufDy0Gsn59kK",
      "execution_count": null,
      "outputs": []
    },
    {
      "cell_type": "code",
      "source": [
        "tiltFromWirePot(dataDFs)"
      ],
      "metadata": {
        "id": "GRgbB0tC4_r6"
      },
      "id": "GRgbB0tC4_r6",
      "execution_count": null,
      "outputs": []
    },
    {
      "cell_type": "code",
      "source": [
        "# Load appropriate information\n",
        "test_widget.value = ('Test3',)\n",
        "sensor_widget.value = 'WirePotData'\n",
        "data_widget.value = ('WirePot1 [m].csv', 'WirePot2 [m].csv', 'WirePot3 [m].csv', 'WirePot4 [m].csv',)\n",
        "xValue.value = \"Load [kN]\"\n",
        "plot.value = True\n",
        "peak.value = True\n",
        "\n",
        "# Call new manual interact\n",
        "testInteract = interact_manual(plottingData,\n",
        "                               test=test_widget,\n",
        "                               sensor=sensor_widget,\n",
        "                               data=data_widget,\n",
        "                               xAxisData = xValue,\n",
        "                               plotData = plot,\n",
        "                               peakEnd=peak)"
      ],
      "metadata": {
        "id": "XHELWhODwdf_"
      },
      "id": "XHELWhODwdf_",
      "execution_count": null,
      "outputs": []
    },
    {
      "cell_type": "code",
      "source": [
        "tiltFromWirePot(dataDFs)"
      ],
      "metadata": {
        "id": "ugAsBjr9wfbp"
      },
      "id": "ugAsBjr9wfbp",
      "execution_count": null,
      "outputs": []
    },
    {
      "cell_type": "markdown",
      "source": [
        "<font color='red'>Question: </font> How do the plots above compare to the data collected by the tilt meters? Is this as useful as the tilt meter system?"
      ],
      "metadata": {
        "id": "VCxnhGk1faPw"
      },
      "id": "VCxnhGk1faPw"
    },
    {
      "cell_type": "markdown",
      "source": [
        "<font color='red'>Answer: </font>\n"
      ],
      "metadata": {
        "id": "jzS-wv5YfaSe"
      },
      "id": "jzS-wv5YfaSe"
    },
    {
      "cell_type": "markdown",
      "id": "7d168fbc",
      "metadata": {
        "id": "7d168fbc"
      },
      "source": [
        "# (4) Behavior of individual members"
      ]
    },
    {
      "cell_type": "markdown",
      "id": "c8fa880c",
      "metadata": {
        "id": "c8fa880c"
      },
      "source": [
        "Finally, let's explore the most interesting data, the distributed strain data collected from the fiber optics sensors. The model bridge memberes are divided into 4 planes: Bottom, Diagonal, Middle and Transverse planes. As we didn't investigate these in the simulation, transverse elements will not be investigated. See Figure 7.\n",
        "\n",
        "<center>\n",
        "<img src=\"https://github.com/UCB-CE170a/Fall2023/raw/master/Homework/Homework2/Figures/BridgeNamingConvention.PNG\" alt=\"Node numbering\" width=\"800\" />\n",
        "    \n",
        "    Figure 7. Node numbering for the model bridge\n",
        "</center>\n",
        "\n",
        "As discussed earlier, the raw data collected by the fiber optics sensors are spatially distributed. Specifically, the data contains spatial strain information at each sample time for each fiber. The general preprocessing process is listed as the following:\n",
        "* Cleaning: Convert data format, remove headers, convert units, remove meaningless items...\n",
        "* Time synchronization: all the collected data is time-stamped. Unfortunately, the timing systems for different measurement equipment might be slightly different. For instance, the clock in the fiber optics analyzer is 2 minutes and 19 seconds faster than the one measuring the loading process. Synchronizing times across all equipment make the comparison/plotting of different measurements possible.\n",
        "* Resampling: sometimes, the sampling rates across different equipment are different. To compare different measurements from different machines (i.e., load vs. strain), one needs to resample the collected data to match the time stamp.\n",
        "* Normalization: some fibers are pre tensioned, meaning the starting measurement may not be 0. Doing normalization for the data makes the measurement (strain) comparable across different bridges.\n",
        "\n",
        "<font color='red'>Note: the data you see in this section is far from perfect. If some data does not make any sense to you, think about the potential causes for that. Try your best to discuss your findings.  </font>\n",
        "\n",
        "We'll focus on the results of the first test for this section.\n"
      ]
    },
    {
      "cell_type": "markdown",
      "id": "ed94abc0",
      "metadata": {
        "id": "ed94abc0"
      },
      "source": [
        "We first reread the load data, which has now been synchronized with the fiber optic data in time:"
      ]
    },
    {
      "cell_type": "markdown",
      "id": "b49d9605",
      "metadata": {
        "id": "b49d9605"
      },
      "source": [
        "The first row of the data provides the spatial location for each strain measurement points alone the fiber. The rest of the rows are the strain measurements across the fiber (0.13 m resolution) for every sample time. To access the strain measurement for certain truss members, one need to know the corresponding spatial locations of the member on the fiber. Luckily, our kind GSI did indexing (truss member end points to fiber locations) for all the truss members for all three bridges, so we know how to access the member from the data.\n",
        "\n",
        "The indexing convention is as follows:\n",
        "\n",
        "* `{node1}{node2}_{inside or outside}.csv`\n",
        " * `AB_I.csv` refers to the \"inside\" of element AB\n",
        " * `EF_O.csv` refers to the \"outside\" of element EF\n",
        "\n",
        "The \"inside\" and \"outside\" of an element are depicted in Figure 8.\n",
        "\n",
        "\n",
        "\n"
      ]
    },
    {
      "cell_type": "markdown",
      "id": "844d0bd6",
      "metadata": {
        "id": "844d0bd6"
      },
      "source": [
        "## Time (load) Data Analysis\n",
        "Since different groups wired fiber cables in different ways and analyzing both spatial and temporal data requires skills beyond the boundary of this class, simplified strain data is used in the later part of the assignment. Certain truss members are extracted from the data for all bridges, and only the average (spatial averaged) strain for each truss member is provided along with the corresponding load levels."
      ]
    },
    {
      "cell_type": "markdown",
      "id": "090a4461",
      "metadata": {
        "id": "090a4461"
      },
      "source": [
        "## (4.1) Diagonal Members"
      ]
    },
    {
      "cell_type": "code",
      "execution_count": null,
      "id": "8e4c6d21-4fea-45b6-9e23-06e19b9b48c2",
      "metadata": {
        "id": "8e4c6d21-4fea-45b6-9e23-06e19b9b48c2"
      },
      "outputs": [],
      "source": [
        "# Load appropriate information\n",
        "test_widget.value = ('Test1',)\n",
        "sensor_widget.value = 'FiberOpticData'\n",
        "data_widget.value = ('CD_I.csv', 'BC_I.csv', 'JK_I.csv', 'HJ_I.csv')\n",
        "xValue.value = \"Load [kN]\"\n",
        "plot.value = True\n",
        "peak.value = True\n",
        "\n",
        "# Call new manual interact\n",
        "testInteract = interact_manual(plottingData,\n",
        "                               test=test_widget,\n",
        "                               sensor=sensor_widget,\n",
        "                               data=data_widget,\n",
        "                               xAxisData = xValue,\n",
        "                               plotData = plot,\n",
        "                               peakEnd=peak)"
      ]
    },
    {
      "cell_type": "markdown",
      "id": "f4bf28fe",
      "metadata": {
        "id": "f4bf28fe"
      },
      "source": [
        "<font color='red'>Question: </font> Describe any similarities and differences between the members. What is the strain at approximately 10 kN? Does it match your predictions? Explain your reasoning."
      ]
    },
    {
      "cell_type": "markdown",
      "id": "43a7448d",
      "metadata": {
        "id": "43a7448d"
      },
      "source": [
        "<font color='red'>Answer: </font>"
      ]
    },
    {
      "cell_type": "markdown",
      "id": "2edcf6ba",
      "metadata": {
        "id": "2edcf6ba"
      },
      "source": [
        "## (4.2) Bottom Members"
      ]
    },
    {
      "cell_type": "code",
      "execution_count": null,
      "id": "932cd5ed-119f-4fba-bc47-055bcb1fa018",
      "metadata": {
        "id": "932cd5ed-119f-4fba-bc47-055bcb1fa018"
      },
      "outputs": [],
      "source": [
        "# Load appropriate information\n",
        "test_widget.value = ('Test1',)\n",
        "sensor_widget.value = 'FiberOpticData'\n",
        "data_widget.value = ('AF_I.csv', 'EF_I.csv', 'GM_I.csv', 'LM_I.csv',)\n",
        "xValue.value = \"Load [kN]\"\n",
        "plot.value = True\n",
        "peak.value = True\n",
        "\n",
        "# Call new manual interact\n",
        "testInteract = interact_manual(plottingData,\n",
        "                               test=test_widget,\n",
        "                               sensor=sensor_widget,\n",
        "                               data=data_widget,\n",
        "                               xAxisData = xValue,\n",
        "                               plotData = plot,\n",
        "                               peakEnd=peak)"
      ]
    },
    {
      "cell_type": "markdown",
      "id": "63ea64cd",
      "metadata": {
        "id": "63ea64cd"
      },
      "source": [
        "<font color='red'>Question: </font> Describe any similarities and differences between the members. What is the strain at approximately 10 kN? Does it match your predictions? Explain your reasoning."
      ]
    },
    {
      "cell_type": "markdown",
      "id": "e0c1d263",
      "metadata": {
        "id": "e0c1d263"
      },
      "source": [
        "<font color='red'>Answer: </font>"
      ]
    },
    {
      "cell_type": "markdown",
      "id": "4b92135e",
      "metadata": {
        "id": "4b92135e"
      },
      "source": [
        "## (4.3) Middle Section Diagonal Members"
      ]
    },
    {
      "cell_type": "code",
      "execution_count": null,
      "id": "98734fcd",
      "metadata": {
        "id": "98734fcd"
      },
      "outputs": [],
      "source": [
        "# Load appropriate information\n",
        "test_widget.value = ('Test1',)\n",
        "sensor_widget.value = 'FiberOpticData'\n",
        "data_widget.value = ('HM_I.csv', 'KM_I.csv', 'BF_I.csv', 'DF_I.csv',)\n",
        "xValue.value = \"Load [kN]\"\n",
        "plot.value = True\n",
        "peak.value = True\n",
        "\n",
        "# Call new manual interact\n",
        "testInteract = interact_manual(plottingData,\n",
        "                               test=test_widget,\n",
        "                               sensor=sensor_widget,\n",
        "                               data=data_widget,\n",
        "                               xAxisData = xValue,\n",
        "                               plotData = plot,\n",
        "                               peakEnd=peak)"
      ]
    },
    {
      "cell_type": "markdown",
      "id": "0d595ef1",
      "metadata": {
        "id": "0d595ef1"
      },
      "source": [
        "<font color='red'>Question: </font> Describe any similarities and differences between the members. Is this plot as you would expect? Explain your reasoning."
      ]
    },
    {
      "cell_type": "markdown",
      "id": "ca76cac0",
      "metadata": {
        "id": "ca76cac0"
      },
      "source": [
        "<font color='red'>Answer: </font>"
      ]
    },
    {
      "cell_type": "markdown",
      "id": "9c400c56",
      "metadata": {
        "id": "9c400c56"
      },
      "source": [
        "# Discussion"
      ]
    },
    {
      "cell_type": "markdown",
      "id": "9839f30c",
      "metadata": {
        "id": "9839f30c"
      },
      "source": [
        "<font color='red'><b>Question (1): </b></font> Use the strain-load plots for the diagonal members (CD, BC, JK, HJ) from problem (4.1) to revise the stiffness of the material in your FE model. Are your estimations the same across the four different members? How do they compare to the theoretical value?\n",
        "\n",
        "* Hint1: \"Load\" from data is the system (total) load. Go back to Quiz 1 to find the equation to convert total load to the load felt by each member. Again, pay attention to number of angle bars for each member.\n",
        "\n",
        "* Hint2: Reading the values from the graph is acceptable."
      ]
    },
    {
      "cell_type": "markdown",
      "id": "6c7874a8",
      "metadata": {
        "id": "6c7874a8"
      },
      "source": [
        "<font color='red'>Answer: </font>"
      ]
    },
    {
      "cell_type": "markdown",
      "id": "b7cef010",
      "metadata": {
        "id": "b7cef010"
      },
      "source": [
        "<font color='red'><b>Question (2):</b> </font> Think back to what you observed during the tests. (Watch the videos <a href=\"https://drive.google.com/drive/folders/19-VyPuif1KAKcLO464WxMrVE5oai2rZO?usp=drive_link\">here</a> if it helps.) Describe the deformation mechanisms of the bridges as a whole at different loading stages."
      ]
    },
    {
      "cell_type": "markdown",
      "id": "9461b15a",
      "metadata": {
        "id": "9461b15a"
      },
      "source": [
        "<font color='red'>Answer: </font>"
      ]
    },
    {
      "cell_type": "markdown",
      "id": "08a6b534",
      "metadata": {
        "id": "08a6b534"
      },
      "source": [
        "<font color='red'><b>Question (3):</b></font> Discuss the validity of the assumptions that we made in the analysis given in Quiz 1.\n"
      ]
    },
    {
      "cell_type": "markdown",
      "id": "782e7085",
      "metadata": {
        "id": "782e7085"
      },
      "source": [
        "<font color='red'>Answer: </font>"
      ]
    },
    {
      "cell_type": "markdown",
      "id": "bb453f9e",
      "metadata": {
        "id": "bb453f9e"
      },
      "source": [
        "<font color='red'><b>Question (4):</b></font> If you could improve the simulation analysis, what would you do?\n"
      ]
    },
    {
      "cell_type": "markdown",
      "id": "e306ea8e",
      "metadata": {
        "id": "e306ea8e"
      },
      "source": [
        "<font color='red'>Answer: </font>"
      ]
    },
    {
      "cell_type": "markdown",
      "id": "c17b8114",
      "metadata": {
        "id": "c17b8114"
      },
      "source": [
        "<font color='red'><b>Question (5):</b></font> If you were allowed to add more sensors to the model bridge, what and where would you add?"
      ]
    },
    {
      "cell_type": "markdown",
      "id": "fe0bfd0e",
      "metadata": {
        "id": "fe0bfd0e"
      },
      "source": [
        "<font color='red'>Answer: </font>"
      ]
    },
    {
      "cell_type": "markdown",
      "source": [
        "# Further Investigation\n",
        "\n",
        "We collected a lot of data which wasn't presented or analyzed above. If you're intereseted, we encourage you to investigate futher and see what you can find out/develop. Some suggestive questions are provided below towards this end.\n",
        "\n",
        "\n",
        "*   What can we interpret by looking at the inside and outside fiberoptic of the diagonal members?\n",
        "*   Strains were collected, but what else can we determine from this?\n",
        "*   What can we learn by looking at spatial strain data fiber optics provide?\n",
        "\n"
      ],
      "metadata": {
        "id": "EDbducF7jsvU"
      },
      "id": "EDbducF7jsvU"
    },
    {
      "cell_type": "markdown",
      "source": [
        "Modify the inputs for this to whatever you'd like to pull. You can open multiple instances, but only the most recent data will be kept in the variable `dataDFs`, which is a list of the Pandas DataFrames containing the data specified in the function."
      ],
      "metadata": {
        "id": "Imsd-v6RmhGl"
      },
      "id": "Imsd-v6RmhGl"
    },
    {
      "cell_type": "code",
      "source": [
        "testInteract = interact_manual(plottingData,\n",
        "                               test=test_widget,\n",
        "                               sensor=sensor_widget,\n",
        "                               data=data_widget,\n",
        "                               xAxisData = xValue,\n",
        "                               plotData = plot,\n",
        "                               peakEnd=peak)"
      ],
      "metadata": {
        "id": "uLYOlVjbmOie"
      },
      "id": "uLYOlVjbmOie",
      "execution_count": null,
      "outputs": []
    },
    {
      "cell_type": "markdown",
      "source": [
        "If you want to keep the data, you'll need to assign it to another variable."
      ],
      "metadata": {
        "id": "6F7DgtSZmuvR"
      },
      "id": "6F7DgtSZmuvR"
    },
    {
      "cell_type": "code",
      "source": [
        "dataList = dataDFs"
      ],
      "metadata": {
        "id": "sEeFzGDPmS64"
      },
      "id": "sEeFzGDPmS64",
      "execution_count": null,
      "outputs": []
    }
  ],
  "metadata": {
    "kernelspec": {
      "display_name": "Python 3 (ipykernel)",
      "language": "python",
      "name": "python3"
    },
    "language_info": {
      "codemirror_mode": {
        "name": "ipython",
        "version": 3
      },
      "file_extension": ".py",
      "mimetype": "text/x-python",
      "name": "python",
      "nbconvert_exporter": "python",
      "pygments_lexer": "ipython3",
      "version": "3.9.12"
    },
    "colab": {
      "provenance": []
    }
  },
  "nbformat": 4,
  "nbformat_minor": 5
}
